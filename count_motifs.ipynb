{
 "cells": [
  {
   "cell_type": "code",
   "execution_count": 14,
   "id": "d9f4de3e",
   "metadata": {},
   "outputs": [],
   "source": [
    "import os"
   ]
  },
  {
   "cell_type": "code",
   "execution_count": 5,
   "id": "fa477f03",
   "metadata": {},
   "outputs": [],
   "source": [
    "path1 = 'h2az_1_epoch/motifs_discovered'\n",
    "path2 = 'h2az_2_epochs/motifs_discovered'\n",
    "path3 = 'h2az_3_epochs/motifs_discovered'\n",
    "path4 = 'h2az_4_epochs/motifs_discovered'"
   ]
  },
  {
   "cell_type": "code",
   "execution_count": 19,
   "id": "b9dc578b",
   "metadata": {},
   "outputs": [],
   "source": [
    "def collect_motifs(path):\n",
    "    list_epoch = []\n",
    "    file_list = os.listdir(path)\n",
    "    for i in file_list:\n",
    "        if 'txt' in i:\n",
    "            list_epoch.append(i.split('_')[1])\n",
    "    return list_epoch"
   ]
  },
  {
   "cell_type": "code",
   "execution_count": 21,
   "id": "1f6d89c9",
   "metadata": {},
   "outputs": [],
   "source": [
    "list_1epoch = collect_motifs(path1)\n",
    "list_2epoch = collect_motifs(path2)\n",
    "list_3epoch = collect_motifs(path3)\n",
    "list_4epoch = collect_motifs(path4)"
   ]
  },
  {
   "cell_type": "code",
   "execution_count": 27,
   "id": "383d9c96",
   "metadata": {},
   "outputs": [
    {
     "data": {
      "text/plain": [
       "{'CGTTT'}"
      ]
     },
     "execution_count": 27,
     "metadata": {},
     "output_type": "execute_result"
    }
   ],
   "source": [
    "set(list_1epoch) & set(list_2epoch)"
   ]
  },
  {
   "cell_type": "code",
   "execution_count": 28,
   "id": "1f102604",
   "metadata": {},
   "outputs": [
    {
     "data": {
      "text/plain": [
       "set()"
      ]
     },
     "execution_count": 28,
     "metadata": {},
     "output_type": "execute_result"
    }
   ],
   "source": [
    "set(list_1epoch) & set(list_3epoch)"
   ]
  },
  {
   "cell_type": "code",
   "execution_count": 29,
   "id": "596b2179",
   "metadata": {},
   "outputs": [
    {
     "data": {
      "text/plain": [
       "set()"
      ]
     },
     "execution_count": 29,
     "metadata": {},
     "output_type": "execute_result"
    }
   ],
   "source": [
    "set(list_1epoch) & set(list_4epoch)"
   ]
  },
  {
   "cell_type": "code",
   "execution_count": 30,
   "id": "648e0675",
   "metadata": {},
   "outputs": [
    {
     "data": {
      "text/plain": [
       "set()"
      ]
     },
     "execution_count": 30,
     "metadata": {},
     "output_type": "execute_result"
    }
   ],
   "source": [
    "set(list_2epoch) & set(list_3epoch)"
   ]
  },
  {
   "cell_type": "code",
   "execution_count": 31,
   "id": "11156a65",
   "metadata": {},
   "outputs": [
    {
     "data": {
      "text/plain": [
       "set()"
      ]
     },
     "execution_count": 31,
     "metadata": {},
     "output_type": "execute_result"
    }
   ],
   "source": [
    "set(list_2epoch) & set(list_4epoch)"
   ]
  },
  {
   "cell_type": "code",
   "execution_count": 32,
   "id": "39e8a99a",
   "metadata": {},
   "outputs": [
    {
     "data": {
      "text/plain": [
       "{'GCGCC'}"
      ]
     },
     "execution_count": 32,
     "metadata": {},
     "output_type": "execute_result"
    }
   ],
   "source": [
    "set(list_3epoch) & set(list_4epoch)"
   ]
  },
  {
   "cell_type": "code",
   "execution_count": 26,
   "id": "42fa8745",
   "metadata": {},
   "outputs": [],
   "source": [
    "#1-2\n",
    "#1-3\n",
    "#1-4\n",
    "#2-3\n",
    "#2-4\n",
    "#3-4"
   ]
  },
  {
   "cell_type": "code",
   "execution_count": null,
   "id": "519e6c00",
   "metadata": {},
   "outputs": [],
   "source": []
  }
 ],
 "metadata": {
  "kernelspec": {
   "display_name": "Python 3",
   "language": "python",
   "name": "python3"
  },
  "language_info": {
   "codemirror_mode": {
    "name": "ipython",
    "version": 3
   },
   "file_extension": ".py",
   "mimetype": "text/x-python",
   "name": "python",
   "nbconvert_exporter": "python",
   "pygments_lexer": "ipython3",
   "version": "3.7.3"
  }
 },
 "nbformat": 4,
 "nbformat_minor": 5
}
