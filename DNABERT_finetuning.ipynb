{
 "cells": [
  {
   "cell_type": "markdown",
   "metadata": {},
   "source": [
    "## Create conda environment"
   ]
  },
  {
   "cell_type": "markdown",
   "metadata": {},
   "source": [
    "Cell output cleaned up as it takes up a lot of space in the notebook."
   ]
  },
  {
   "cell_type": "code",
   "execution_count": null,
   "metadata": {},
   "outputs": [],
   "source": [
    "%%bash\n",
    "conda create -n dnabert python=3.6"
   ]
  },
  {
   "cell_type": "code",
   "execution_count": null,
   "metadata": {},
   "outputs": [],
   "source": [
    "%%bash\n",
    "source activate dnabert && conda env list"
   ]
  },
  {
   "cell_type": "markdown",
   "metadata": {},
   "source": [
    "##  Install packages"
   ]
  },
  {
   "cell_type": "code",
   "execution_count": null,
   "metadata": {},
   "outputs": [],
   "source": [
    "!git clone https://github.com/jerryji1993/DNABERT"
   ]
  },
  {
   "cell_type": "code",
   "execution_count": null,
   "metadata": {},
   "outputs": [],
   "source": [
    "!conda install pytorch=1.4 torchvision cudatoolkit=10.0 -c pytorch --yes"
   ]
  },
  {
   "cell_type": "code",
   "execution_count": null,
   "metadata": {},
   "outputs": [],
   "source": [
    "!nvidia-smi"
   ]
  },
  {
   "cell_type": "code",
   "execution_count": null,
   "metadata": {},
   "outputs": [],
   "source": [
    "import os\n",
    "os.chdir(\"./DNABERT\")"
   ]
  },
  {
   "cell_type": "code",
   "execution_count": null,
   "metadata": {},
   "outputs": [],
   "source": [
    "!python3 -m pip install --editable ."
   ]
  },
  {
   "cell_type": "code",
   "execution_count": null,
   "metadata": {},
   "outputs": [],
   "source": [
    "os.chdir(\"./examples\")"
   ]
  },
  {
   "cell_type": "code",
   "execution_count": null,
   "metadata": {},
   "outputs": [],
   "source": [
    "!python3 -m pip install --upgrade setuptools"
   ]
  },
  {
   "cell_type": "code",
   "execution_count": null,
   "metadata": {},
   "outputs": [],
   "source": [
    "!python3 -m pip install -r requirements.txt"
   ]
  },
  {
   "cell_type": "code",
   "execution_count": null,
   "metadata": {},
   "outputs": [],
   "source": [
    "!python3 -m pip install urllib3==1.25.4"
   ]
  },
  {
   "cell_type": "code",
   "execution_count": null,
   "metadata": {},
   "outputs": [],
   "source": [
    "!python3 -m pip install future"
   ]
  },
  {
   "cell_type": "code",
   "execution_count": null,
   "metadata": {},
   "outputs": [],
   "source": [
    "#%%bash\n",
    "#conda update -n base -c defaults conda"
   ]
  },
  {
   "cell_type": "markdown",
   "metadata": {},
   "source": [
    "## apex install"
   ]
  },
  {
   "cell_type": "code",
   "execution_count": null,
   "metadata": {},
   "outputs": [],
   "source": [
    "!conda install -c conda-forge nvidia-apex  --y "
   ]
  },
  {
   "cell_type": "code",
   "execution_count": null,
   "metadata": {},
   "outputs": [],
   "source": [
    "# git clone https://github.com/NVIDIA/apex\n",
    "# cd apex\n",
    "# pip install -v --disable-pip-version-check --no-cache-dir --global-option=\"--cpp_ext\" --global-option=\"--cuda_ext\" ./"
   ]
  },
  {
   "cell_type": "code",
   "execution_count": null,
   "metadata": {},
   "outputs": [],
   "source": [
    "# pip install -v --disable-pip-version-check --no-cache-dir ./"
   ]
  },
  {
   "cell_type": "markdown",
   "metadata": {},
   "source": [
    "## fine tuning"
   ]
  },
  {
   "cell_type": "code",
   "execution_count": null,
   "metadata": {},
   "outputs": [],
   "source": [
    "!nvidia-smi"
   ]
  },
  {
   "cell_type": "code",
   "execution_count": null,
   "metadata": {},
   "outputs": [],
   "source": [
    "!pwd"
   ]
  },
  {
   "cell_type": "markdown",
   "metadata": {},
   "source": [
    "## code for distributed training and 16-bits training"
   ]
  },
  {
   "cell_type": "code",
   "execution_count": null,
   "metadata": {},
   "outputs": [],
   "source": [
    "%%bash\n",
    "export KMER=6\n",
    "export MODEL_PATH=./model\n",
    "export DATA_PATH=sample_data/ft/$KMER\n",
    "export OUTPUT_PATH=./ft/$KMER\n",
    "\n",
    "CUDA_VISIBLE_DEVICES=0,1,2 python -m torch.distributed.launch --nproc_per_node=3 run_finetune.py \\\n",
    "    --model_type dna \\\n",
    "    --tokenizer_name=dna$KMER \\\n",
    "    --model_name_or_path $MODEL_PATH \\\n",
    "    --task_name dnaprom \\\n",
    "    --fp16 \\\n",
    "    --do_train \\\n",
    "    --do_eval \\\n",
    "    --data_dir $DATA_PATH \\\n",
    "    --max_seq_length 300 \\\n",
    "    --per_gpu_eval_batch_size=32  \\\n",
    "    --per_gpu_train_batch_size=32 \\\n",
    "    --learning_rate 2e-4 \\\n",
    "    --num_train_epochs 4.0 \\\n",
    "    --output_dir $OUTPUT_PATH \\\n",
    "    --evaluate_during_training \\\n",
    "    --logging_steps 100 \\\n",
    "    --save_steps 4000 \\\n",
    "    --warmup_percent 0.1 \\\n",
    "    --hidden_dropout_prob 0.1 \\\n",
    "    --overwrite_output \\\n",
    "    --weight_decay 0.01 \\\n",
    "    --n_process 8"
   ]
  },
  {
   "cell_type": "code",
   "execution_count": null,
   "metadata": {},
   "outputs": [],
   "source": [
    "## prediction"
   ]
  },
  {
   "cell_type": "code",
   "execution_count": null,
   "metadata": {
    "scrolled": true
   },
   "outputs": [],
   "source": [
    "%%bash\n",
    "export KMER=6\n",
    "export MODEL_PATH=./ft/6\n",
    "export DATA_PATH=sample_data/ft/$KMER\n",
    "export PREDICTION_PATH=./result/$KMER\n",
    "\n",
    "CUDA_VISIBLE_DEVICES=0,1,2 python -m torch.distributed.launch --nproc_per_node=3 run_finetune.py \\\n",
    "    --model_type dna \\\n",
    "    --fp16 \\\n",
    "    --tokenizer_name=dna$KMER \\\n",
    "    --model_name_or_path $MODEL_PATH \\\n",
    "    --task_name dnaprom \\\n",
    "    --do_predict \\\n",
    "    --data_dir $DATA_PATH  \\\n",
    "    --max_seq_length 300 \\\n",
    "    --per_gpu_pred_batch_size=32  \\\n",
    "    --output_dir $MODEL_PATH \\\n",
    "    --predict_dir $PREDICTION_PATH \\\n",
    "    --n_process 48"
   ]
  },
  {
   "cell_type": "code",
   "execution_count": null,
   "metadata": {},
   "outputs": [],
   "source": []
  },
  {
   "cell_type": "code",
   "execution_count": null,
   "metadata": {},
   "outputs": [],
   "source": [
    "## attention "
   ]
  },
  {
   "cell_type": "code",
   "execution_count": null,
   "metadata": {},
   "outputs": [],
   "source": [
    "!nvidia-smi"
   ]
  },
  {
   "cell_type": "code",
   "execution_count": null,
   "metadata": {},
   "outputs": [],
   "source": [
    "%%bash\n",
    "export KMER=6\n",
    "export MODEL_PATH=./ft/$KMER\n",
    "export DATA_PATH=sample_data/ft/$KMER\n",
    "export PREDICTION_PATH=./result/$KMER\n",
    "\n",
    "CUDA_VISIBLE_DEVICES=0,1,2 python -m torch.distributed.launch --nproc_per_node=3 run_finetune.py \\\n",
    "    --model_type dna \\\n",
    "    --tokenizer_name=dna$KMER \\\n",
    "    --fp16 \\\n",
    "    --model_name_or_path $MODEL_PATH \\\n",
    "    --task_name dnaprom \\\n",
    "    --do_visualize \\\n",
    "    --visualize_data_dir $DATA_PATH \\\n",
    "    --visualize_models $KMER \\\n",
    "    --data_dir $DATA_PATH \\\n",
    "    --max_seq_length 300 \\\n",
    "    --per_gpu_pred_batch_size=8   \\\n",
    "    --output_dir $MODEL_PATH \\\n",
    "    --predict_dir $PREDICTION_PATH \\\n",
    "    --n_process 96"
   ]
  },
  {
   "cell_type": "code",
   "execution_count": null,
   "metadata": {},
   "outputs": [],
   "source": [
    "!pip install seaborn"
   ]
  },
  {
   "cell_type": "code",
   "execution_count": null,
   "metadata": {},
   "outputs": [],
   "source": [
    "import numpy as np\n",
    "import pandas as pd\n",
    "from matplotlib import pyplot as plt\n",
    "import seaborn as sns"
   ]
  },
  {
   "cell_type": "code",
   "execution_count": null,
   "metadata": {},
   "outputs": [],
   "source": [
    "data = np.load('./result/6/atten.npy')"
   ]
  },
  {
   "cell_type": "code",
   "execution_count": null,
   "metadata": {},
   "outputs": [],
   "source": [
    "df = pd.read_csv('./sample_data/ft/6/dev.tsv', sep='\\t')"
   ]
  },
  {
   "cell_type": "code",
   "execution_count": null,
   "metadata": {},
   "outputs": [],
   "source": [
    "data = pd.DataFrame(data)"
   ]
  },
  {
   "cell_type": "code",
   "execution_count": null,
   "metadata": {},
   "outputs": [],
   "source": [
    "data['lbl'] = df['label']"
   ]
  },
  {
   "cell_type": "code",
   "execution_count": null,
   "metadata": {},
   "outputs": [],
   "source": [
    "true_df = data[data['lbl'] == 1]\n",
    "true_df = true_df.drop('lbl', axis=1)\n",
    "true_df.reset_index(drop=True, inplace=True)"
   ]
  },
  {
   "cell_type": "code",
   "execution_count": null,
   "metadata": {},
   "outputs": [],
   "source": [
    "data.max()"
   ]
  },
  {
   "cell_type": "code",
   "execution_count": null,
   "metadata": {},
   "outputs": [],
   "source": [
    "fig, ax = plt.subplots(figsize=(4,5)) \n",
    "sns.heatmap(true_df, cmap=\"YlGnBu\", xticklabels=50, yticklabels=1000)\n",
    "plt.savefig('plot2.png')"
   ]
  },
  {
   "cell_type": "code",
   "execution_count": null,
   "metadata": {},
   "outputs": [],
   "source": [
    "fig, ax = plt.subplots(figsize=(4,1)) \n",
    "plt.plot(true_df.mean(axis=0))\n",
    "plt.savefig('plot.png')"
   ]
  }
 ],
 "metadata": {
  "kernelspec": {
   "display_name": "Python 3",
   "language": "python",
   "name": "python3"
  },
  "language_info": {
   "codemirror_mode": {
    "name": "ipython",
    "version": 3
   },
   "file_extension": ".py",
   "mimetype": "text/x-python",
   "name": "python",
   "nbconvert_exporter": "python",
   "pygments_lexer": "ipython3",
   "version": "3.7.3"
  }
 },
 "nbformat": 4,
 "nbformat_minor": 5
}
